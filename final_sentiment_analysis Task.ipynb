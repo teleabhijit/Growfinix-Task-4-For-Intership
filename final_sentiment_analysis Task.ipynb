{
 "cells": [
  {
   "cell_type": "code",
   "execution_count": 10,
   "id": "722fac4b",
   "metadata": {},
   "outputs": [],
   "source": [
    "# Install all dependencies\n",
    "!pip install pandas matplotlib nltk transformers --quiet\n"
   ]
  },
  {
   "cell_type": "code",
   "execution_count": 11,
   "id": "afc1ec24",
   "metadata": {},
   "outputs": [
    {
     "name": "stderr",
     "output_type": "stream",
     "text": [
      "[nltk_data] Downloading package stopwords to\n",
      "[nltk_data]     C:\\Users\\91902\\AppData\\Roaming\\nltk_data...\n",
      "[nltk_data]   Package stopwords is already up-to-date!\n",
      "[nltk_data] Downloading package punkt to\n",
      "[nltk_data]     C:\\Users\\91902\\AppData\\Roaming\\nltk_data...\n",
      "[nltk_data]   Package punkt is already up-to-date!\n",
      "[nltk_data] Downloading package wordnet to\n",
      "[nltk_data]     C:\\Users\\91902\\AppData\\Roaming\\nltk_data...\n",
      "[nltk_data]   Package wordnet is already up-to-date!\n",
      "[nltk_data] Downloading package vader_lexicon to\n",
      "[nltk_data]     C:\\Users\\91902\\AppData\\Roaming\\nltk_data...\n",
      "[nltk_data]   Package vader_lexicon is already up-to-date!\n"
     ]
    },
    {
     "data": {
      "text/plain": [
       "True"
      ]
     },
     "execution_count": 11,
     "metadata": {},
     "output_type": "execute_result"
    }
   ],
   "source": [
    "import nltk\n",
    "nltk.download(\"stopwords\")\n",
    "nltk.download(\"punkt\")\n",
    "nltk.download(\"wordnet\")\n",
    "nltk.download(\"vader_lexicon\")\n"
   ]
  },
  {
   "cell_type": "code",
   "execution_count": 12,
   "id": "8dfe846c",
   "metadata": {},
   "outputs": [],
   "source": [
    "import re\n",
    "import pandas as pd\n",
    "import matplotlib.pyplot as plt\n",
    "import nltk\n",
    "from nltk.corpus import stopwords\n",
    "from nltk.stem import WordNetLemmatizer\n",
    "from nltk.sentiment.vader import SentimentIntensityAnalyzer\n",
    "from transformers import pipeline\n"
   ]
  },
  {
   "cell_type": "code",
   "execution_count": 13,
   "id": "63b560a8",
   "metadata": {},
   "outputs": [
    {
     "data": {
      "text/html": [
       "<div>\n",
       "<style scoped>\n",
       "    .dataframe tbody tr th:only-of-type {\n",
       "        vertical-align: middle;\n",
       "    }\n",
       "\n",
       "    .dataframe tbody tr th {\n",
       "        vertical-align: top;\n",
       "    }\n",
       "\n",
       "    .dataframe thead th {\n",
       "        text-align: right;\n",
       "    }\n",
       "</style>\n",
       "<table border=\"1\" class=\"dataframe\">\n",
       "  <thead>\n",
       "    <tr style=\"text-align: right;\">\n",
       "      <th></th>\n",
       "      <th>review</th>\n",
       "    </tr>\n",
       "  </thead>\n",
       "  <tbody>\n",
       "    <tr>\n",
       "      <th>0</th>\n",
       "      <td>I loved this movie, it was fantastic and thril...</td>\n",
       "    </tr>\n",
       "    <tr>\n",
       "      <th>1</th>\n",
       "      <td>Terrible movie. Waste of time.</td>\n",
       "    </tr>\n",
       "    <tr>\n",
       "      <th>2</th>\n",
       "      <td>The plot was okay but the acting was superb.</td>\n",
       "    </tr>\n",
       "    <tr>\n",
       "      <th>3</th>\n",
       "      <td>Not my cup of tea. Boring and slow.</td>\n",
       "    </tr>\n",
       "    <tr>\n",
       "      <th>4</th>\n",
       "      <td>Absolutely amazing performance by the cast!</td>\n",
       "    </tr>\n",
       "  </tbody>\n",
       "</table>\n",
       "</div>"
      ],
      "text/plain": [
       "                                              review\n",
       "0  I loved this movie, it was fantastic and thril...\n",
       "1                     Terrible movie. Waste of time.\n",
       "2       The plot was okay but the acting was superb.\n",
       "3                Not my cup of tea. Boring and slow.\n",
       "4        Absolutely amazing performance by the cast!"
      ]
     },
     "execution_count": 13,
     "metadata": {},
     "output_type": "execute_result"
    }
   ],
   "source": [
    "# Sample embedded dataset (small for demo)\n",
    "sample_data = {\n",
    "    \"review\": [\n",
    "        \"I loved this movie, it was fantastic and thrilling!\",\n",
    "        \"Terrible movie. Waste of time.\",\n",
    "        \"The plot was okay but the acting was superb.\",\n",
    "        \"Not my cup of tea. Boring and slow.\",\n",
    "        \"Absolutely amazing performance by the cast!\"\n",
    "    ]\n",
    "}\n",
    "df = pd.DataFrame(sample_data)\n",
    "\n",
    "# If you have the full IMDB Dataset.csv file in the same folder, uncomment below:\n",
    "# df = pd.read_csv(\"IMDB Dataset.csv\")\n",
    "\n",
    "df.head()\n"
   ]
  },
  {
   "cell_type": "code",
   "execution_count": 14,
   "id": "85fb4ca8",
   "metadata": {},
   "outputs": [
    {
     "data": {
      "text/html": [
       "<div>\n",
       "<style scoped>\n",
       "    .dataframe tbody tr th:only-of-type {\n",
       "        vertical-align: middle;\n",
       "    }\n",
       "\n",
       "    .dataframe tbody tr th {\n",
       "        vertical-align: top;\n",
       "    }\n",
       "\n",
       "    .dataframe thead th {\n",
       "        text-align: right;\n",
       "    }\n",
       "</style>\n",
       "<table border=\"1\" class=\"dataframe\">\n",
       "  <thead>\n",
       "    <tr style=\"text-align: right;\">\n",
       "      <th></th>\n",
       "      <th>review</th>\n",
       "      <th>clean_text</th>\n",
       "    </tr>\n",
       "  </thead>\n",
       "  <tbody>\n",
       "    <tr>\n",
       "      <th>0</th>\n",
       "      <td>I loved this movie, it was fantastic and thril...</td>\n",
       "      <td>loved movie fantastic thrilling</td>\n",
       "    </tr>\n",
       "    <tr>\n",
       "      <th>1</th>\n",
       "      <td>Terrible movie. Waste of time.</td>\n",
       "      <td>terrible movie waste time</td>\n",
       "    </tr>\n",
       "    <tr>\n",
       "      <th>2</th>\n",
       "      <td>The plot was okay but the acting was superb.</td>\n",
       "      <td>plot okay acting superb</td>\n",
       "    </tr>\n",
       "    <tr>\n",
       "      <th>3</th>\n",
       "      <td>Not my cup of tea. Boring and slow.</td>\n",
       "      <td>cup tea boring slow</td>\n",
       "    </tr>\n",
       "    <tr>\n",
       "      <th>4</th>\n",
       "      <td>Absolutely amazing performance by the cast!</td>\n",
       "      <td>absolutely amazing performance cast</td>\n",
       "    </tr>\n",
       "  </tbody>\n",
       "</table>\n",
       "</div>"
      ],
      "text/plain": [
       "                                              review  \\\n",
       "0  I loved this movie, it was fantastic and thril...   \n",
       "1                     Terrible movie. Waste of time.   \n",
       "2       The plot was okay but the acting was superb.   \n",
       "3                Not my cup of tea. Boring and slow.   \n",
       "4        Absolutely amazing performance by the cast!   \n",
       "\n",
       "                            clean_text  \n",
       "0      loved movie fantastic thrilling  \n",
       "1            terrible movie waste time  \n",
       "2              plot okay acting superb  \n",
       "3                  cup tea boring slow  \n",
       "4  absolutely amazing performance cast  "
      ]
     },
     "execution_count": 14,
     "metadata": {},
     "output_type": "execute_result"
    }
   ],
   "source": [
    "def clean_text(text: str) -> str:\n",
    "    text = str(text)\n",
    "    text = re.sub(r\"<.*?>\", \" \", text)\n",
    "    text = re.sub(r\"http\\S+|www\\.\\S+\", \" \", text)\n",
    "    text = re.sub(r\"[^a-zA-Z\\s]\", \" \", text)\n",
    "    text = text.lower().strip()\n",
    "    tokens = nltk.word_tokenize(text)\n",
    "    sw = set(stopwords.words(\"english\"))\n",
    "    tokens = [t for t in tokens if t not in sw and len(t) > 1]\n",
    "    lem = WordNetLemmatizer()\n",
    "    tokens = [lem.lemmatize(t) for t in tokens]\n",
    "    return \" \".join(tokens)\n",
    "\n",
    "TEXT_COL = \"review\"\n",
    "df[\"clean_text\"] = df[TEXT_COL].astype(str).apply(clean_text)\n",
    "df.head()\n"
   ]
  },
  {
   "cell_type": "code",
   "execution_count": 15,
   "id": "a5d724ed",
   "metadata": {},
   "outputs": [
    {
     "data": {
      "text/html": [
       "<div>\n",
       "<style scoped>\n",
       "    .dataframe tbody tr th:only-of-type {\n",
       "        vertical-align: middle;\n",
       "    }\n",
       "\n",
       "    .dataframe tbody tr th {\n",
       "        vertical-align: top;\n",
       "    }\n",
       "\n",
       "    .dataframe thead th {\n",
       "        text-align: right;\n",
       "    }\n",
       "</style>\n",
       "<table border=\"1\" class=\"dataframe\">\n",
       "  <thead>\n",
       "    <tr style=\"text-align: right;\">\n",
       "      <th></th>\n",
       "      <th>review</th>\n",
       "      <th>vader_score</th>\n",
       "      <th>vader_label</th>\n",
       "    </tr>\n",
       "  </thead>\n",
       "  <tbody>\n",
       "    <tr>\n",
       "      <th>0</th>\n",
       "      <td>I loved this movie, it was fantastic and thril...</td>\n",
       "      <td>0.8910</td>\n",
       "      <td>Positive</td>\n",
       "    </tr>\n",
       "    <tr>\n",
       "      <th>1</th>\n",
       "      <td>Terrible movie. Waste of time.</td>\n",
       "      <td>-0.7096</td>\n",
       "      <td>Negative</td>\n",
       "    </tr>\n",
       "    <tr>\n",
       "      <th>2</th>\n",
       "      <td>The plot was okay but the acting was superb.</td>\n",
       "      <td>0.7184</td>\n",
       "      <td>Positive</td>\n",
       "    </tr>\n",
       "    <tr>\n",
       "      <th>3</th>\n",
       "      <td>Not my cup of tea. Boring and slow.</td>\n",
       "      <td>-0.3182</td>\n",
       "      <td>Negative</td>\n",
       "    </tr>\n",
       "    <tr>\n",
       "      <th>4</th>\n",
       "      <td>Absolutely amazing performance by the cast!</td>\n",
       "      <td>0.6240</td>\n",
       "      <td>Positive</td>\n",
       "    </tr>\n",
       "  </tbody>\n",
       "</table>\n",
       "</div>"
      ],
      "text/plain": [
       "                                              review  vader_score vader_label\n",
       "0  I loved this movie, it was fantastic and thril...       0.8910    Positive\n",
       "1                     Terrible movie. Waste of time.      -0.7096    Negative\n",
       "2       The plot was okay but the acting was superb.       0.7184    Positive\n",
       "3                Not my cup of tea. Boring and slow.      -0.3182    Negative\n",
       "4        Absolutely amazing performance by the cast!       0.6240    Positive"
      ]
     },
     "execution_count": 15,
     "metadata": {},
     "output_type": "execute_result"
    }
   ],
   "source": [
    "vader = SentimentIntensityAnalyzer()\n",
    "df[\"vader_score\"] = df[\"clean_text\"].apply(lambda x: vader.polarity_scores(x)[\"compound\"])\n",
    "df[\"vader_label\"] = df[\"vader_score\"].apply(lambda x: \"Positive\" if x > 0.05 else (\"Negative\" if x < -0.05 else \"Neutral\"))\n",
    "df[[\"review\", \"vader_score\", \"vader_label\"]]\n"
   ]
  },
  {
   "cell_type": "code",
   "execution_count": 16,
   "id": "0e3f3406",
   "metadata": {},
   "outputs": [
    {
     "name": "stderr",
     "output_type": "stream",
     "text": [
      "Device set to use cpu\n"
     ]
    },
    {
     "data": {
      "text/html": [
       "<div>\n",
       "<style scoped>\n",
       "    .dataframe tbody tr th:only-of-type {\n",
       "        vertical-align: middle;\n",
       "    }\n",
       "\n",
       "    .dataframe tbody tr th {\n",
       "        vertical-align: top;\n",
       "    }\n",
       "\n",
       "    .dataframe thead th {\n",
       "        text-align: right;\n",
       "    }\n",
       "</style>\n",
       "<table border=\"1\" class=\"dataframe\">\n",
       "  <thead>\n",
       "    <tr style=\"text-align: right;\">\n",
       "      <th></th>\n",
       "      <th>review</th>\n",
       "      <th>hf_label</th>\n",
       "      <th>hf_confidence</th>\n",
       "    </tr>\n",
       "  </thead>\n",
       "  <tbody>\n",
       "    <tr>\n",
       "      <th>0</th>\n",
       "      <td>I loved this movie, it was fantastic and thril...</td>\n",
       "      <td>POSITIVE</td>\n",
       "      <td>0.999888</td>\n",
       "    </tr>\n",
       "    <tr>\n",
       "      <th>1</th>\n",
       "      <td>Terrible movie. Waste of time.</td>\n",
       "      <td>NEGATIVE</td>\n",
       "      <td>0.999812</td>\n",
       "    </tr>\n",
       "    <tr>\n",
       "      <th>2</th>\n",
       "      <td>The plot was okay but the acting was superb.</td>\n",
       "      <td>POSITIVE</td>\n",
       "      <td>0.999813</td>\n",
       "    </tr>\n",
       "    <tr>\n",
       "      <th>3</th>\n",
       "      <td>Not my cup of tea. Boring and slow.</td>\n",
       "      <td>NEGATIVE</td>\n",
       "      <td>0.999693</td>\n",
       "    </tr>\n",
       "    <tr>\n",
       "      <th>4</th>\n",
       "      <td>Absolutely amazing performance by the cast!</td>\n",
       "      <td>POSITIVE</td>\n",
       "      <td>0.999880</td>\n",
       "    </tr>\n",
       "  </tbody>\n",
       "</table>\n",
       "</div>"
      ],
      "text/plain": [
       "                                              review  hf_label  hf_confidence\n",
       "0  I loved this movie, it was fantastic and thril...  POSITIVE       0.999888\n",
       "1                     Terrible movie. Waste of time.  NEGATIVE       0.999812\n",
       "2       The plot was okay but the acting was superb.  POSITIVE       0.999813\n",
       "3                Not my cup of tea. Boring and slow.  NEGATIVE       0.999693\n",
       "4        Absolutely amazing performance by the cast!  POSITIVE       0.999880"
      ]
     },
     "execution_count": 16,
     "metadata": {},
     "output_type": "execute_result"
    }
   ],
   "source": [
    "hf_classifier = pipeline(\"sentiment-analysis\", model=\"distilbert-base-uncased-finetuned-sst-2-english\")\n",
    "hf_results = hf_classifier(df[\"review\"].astype(str).tolist(), truncation=True)\n",
    "\n",
    "df[\"hf_label\"] = [res[\"label\"] for res in hf_results]\n",
    "df[\"hf_confidence\"] = [res[\"score\"] for res in hf_results]\n",
    "df[[\"review\", \"hf_label\", \"hf_confidence\"]]\n"
   ]
  },
  {
   "cell_type": "code",
   "execution_count": 17,
   "id": "fd37b98d",
   "metadata": {},
   "outputs": [
    {
     "data": {
      "image/png": "[encoded data removed]",
      "text/plain": [
       "<Figure size 500x500 with 1 Axes>"
      ]
     },
     "metadata": {},
     "output_type": "display_data"
    },
    {
     "data": {
      "image/png": "[encoded data removed]",
      "text/plain": [
       "<Figure size 500x500 with 1 Axes>"
      ]
     },
     "metadata": {},
     "output_type": "display_data"
    }
   ],
   "source": [
    "# Pie chart for VADER\n",
    "vader_counts = df[\"vader_label\"].value_counts()\n",
    "plt.figure(figsize=(5,5))\n",
    "plt.pie(vader_counts, labels=vader_counts.index, autopct=\"%1.1f%%\")\n",
    "plt.title(\"VADER Sentiment Distribution\")\n",
    "plt.savefig(\"vader_pie_chart.png\")\n",
    "plt.show()\n",
    "\n",
    "# Bar chart for HuggingFace\n",
    "hf_counts = df[\"hf_label\"].value_counts()\n",
    "plt.figure(figsize=(5,5))\n",
    "hf_counts.plot(kind=\"bar\", color=[\"green\", \"red\"])\n",
    "plt.title(\"HuggingFace Sentiment Distribution\")\n",
    "plt.ylabel(\"Count\")\n",
    "plt.savefig(\"hf_bar_chart.png\")\n",
    "plt.show()\n"
   ]
  },
  {
   "cell_type": "code",
   "execution_count": 18,
   "id": "afa6cf06",
   "metadata": {},
   "outputs": [
    {
     "name": "stdout",
     "output_type": "stream",
     "text": [
      "Results saved to sentiment_analysis_results.csv\n"
     ]
    }
   ],
   "source": [
    "df.to_csv(\"sentiment_analysis_results.csv\", index=False)\n",
    "print(\"Results saved to sentiment_analysis_results.csv\")\n"
   ]
  },
  {
   "cell_type": "code",
   "execution_count": null,
   "id": "f8e6d43c-ed4d-4d61-a64c-1c555787c21b",
   "metadata": {},
   "outputs": [],
   "source": []
  },
  {
   "cell_type": "code",
   "execution_count": null,
   "id": "81339730-a4e2-41aa-b5a0-c7c6a311d7b5",
   "metadata": {},
   "outputs": [],
   "source": []
  },
  {
   "cell_type": "code",
   "execution_count": 20,
   "id": "fca0b9c4-5a12-4c46-a8ed-fbd800231d43",
   "metadata": {},
   "outputs": [
    {
     "name": "stderr",
     "output_type": "stream",
     "text": [
      "Device set to use cpu\n",
      "2025-08-14 21:46:54.051 Thread 'MainThread': missing ScriptRunContext! This warning can be ignored when running in bare mode.\n",
      "2025-08-14 21:46:54.056 Thread 'MainThread': missing ScriptRunContext! This warning can be ignored when running in bare mode.\n",
      "2025-08-14 21:46:54.059 Thread 'MainThread': missing ScriptRunContext! This warning can be ignored when running in bare mode.\n",
      "2025-08-14 21:46:54.061 Thread 'MainThread': missing ScriptRunContext! This warning can be ignored when running in bare mode.\n",
      "2025-08-14 21:46:54.064 Thread 'MainThread': missing ScriptRunContext! This warning can be ignored when running in bare mode.\n",
      "2025-08-14 21:46:54.066 Thread 'MainThread': missing ScriptRunContext! This warning can be ignored when running in bare mode.\n",
      "2025-08-14 21:46:54.068 Thread 'MainThread': missing ScriptRunContext! This warning can be ignored when running in bare mode.\n",
      "2025-08-14 21:46:54.070 Thread 'MainThread': missing ScriptRunContext! This warning can be ignored when running in bare mode.\n",
      "2025-08-14 21:46:54.072 Thread 'MainThread': missing ScriptRunContext! This warning can be ignored when running in bare mode.\n",
      "2025-08-14 21:46:54.078 Thread 'MainThread': missing ScriptRunContext! This warning can be ignored when running in bare mode.\n",
      "2025-08-14 21:46:54.085 Thread 'MainThread': missing ScriptRunContext! This warning can be ignored when running in bare mode.\n",
      "2025-08-14 21:46:54.087 Thread 'MainThread': missing ScriptRunContext! This warning can be ignored when running in bare mode.\n",
      "2025-08-14 21:46:54.089 Thread 'MainThread': missing ScriptRunContext! This warning can be ignored when running in bare mode.\n",
      "2025-08-14 21:46:54.091 Thread 'MainThread': missing ScriptRunContext! This warning can be ignored when running in bare mode.\n",
      "2025-08-14 21:46:54.094 Thread 'MainThread': missing ScriptRunContext! This warning can be ignored when running in bare mode.\n"
     ]
    }
   ],
   "source": [
    "# =====================================\n",
    "# STEP 11: Optional UI with Streamlit\n",
    "# =====================================\n",
    "import streamlit as st\n",
    "from nltk.sentiment.vader import SentimentIntensityAnalyzer\n",
    "from transformers import pipeline\n",
    "\n",
    "# Load VADER\n",
    "vader = SentimentIntensityAnalyzer()\n",
    "\n",
    "# Load HuggingFace sentiment pipeline\n",
    "hf_pipeline = pipeline(\"sentiment-analysis\", model=\"distilbert-base-uncased-finetuned-sst-2-english\")\n",
    "\n",
    "st.title(\"🎬 Movie Review Sentiment Analysis\")\n",
    "st.write(\"Paste a review below to see sentiment analysis from both VADER and HuggingFace Transformer.\")\n",
    "\n",
    "# Input text\n",
    "user_review = st.text_area(\"Enter your movie review here:\")\n",
    "\n",
    "if st.button(\"Analyze Sentiment\"):\n",
    "    if user_review.strip() != \"\":\n",
    "        # VADER Analysis\n",
    "        vader_scores = vader.polarity_scores(user_review)\n",
    "        if vader_scores['compound'] >= 0.05:\n",
    "            vader_sentiment = \"Positive\"\n",
    "        elif vader_scores['compound'] <= -0.05:\n",
    "            vader_sentiment = \"Negative\"\n",
    "        else:\n",
    "            vader_sentiment = \"Neutral\"\n",
    "        \n",
    "        # HuggingFace Analysis\n",
    "        hf_result = hf_pipeline(user_review)[0]\n",
    "        hf_sentiment = hf_result['label']\n",
    "        hf_score = hf_result['score']\n",
    "\n",
    "        # Display results\n",
    "        st.subheader(\"📊 VADER Sentiment\")\n",
    "        st.write(f\"Sentiment: **{vader_sentiment}**\")\n",
    "        st.json(vader_scores)\n",
    "\n",
    "        st.subheader(\"🤖 HuggingFace Transformer Sentiment\")\n",
    "        st.write(f\"Sentiment: **{hf_sentiment}** (Confidence: {hf_score:.2f})\")\n",
    "\n",
    "    else:\n",
    "        st.warning(\"Please enter a review before analyzing.\")\n"
   ]
  },
  {
   "cell_type": "code",
   "execution_count": null,
   "id": "48a8a192-5f24-44e6-92ec-0a263a527d19",
   "metadata": {},
   "outputs": [],
   "source": []
  },
  {
   "cell_type": "code",
   "execution_count": null,
   "id": "c1c765e7-ec02-43bb-8c87-fe305ad67578",
   "metadata": {},
   "outputs": [],
   "source": []
  }
 ],
 "metadata": {
  "kernelspec": {
   "display_name": "Python 3 (ipykernel)",
   "language": "python",
   "name": "python3"
  },
  "language_info": {
   "codemirror_mode": {
    "name": "ipython",
    "version": 3
   },
   "file_extension": ".py",
   "mimetype": "text/x-python",
   "name": "python",
   "nbconvert_exporter": "python",
   "pygments_lexer": "ipython3",
   "version": "3.13.5"
  }
 },
 "nbformat": 4,
 "nbformat_minor": 5
}
